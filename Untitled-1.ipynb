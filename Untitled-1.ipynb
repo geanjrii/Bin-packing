{
 "cells": [
  {
   "attachments": {},
   "cell_type": "markdown",
   "metadata": {},
   "source": [
    "# Aula prática: Bin Packing\n"
   ]
  },
  {
   "attachments": {},
   "cell_type": "markdown",
   "metadata": {},
   "source": [
    "## Exercício 1\n"
   ]
  },
  {
   "attachments": {},
   "cell_type": "markdown",
   "metadata": {},
   "source": [
    "### Descrição do problema\n",
    "Uma faculdade quer agendar as provas de 6 disciplinas. Existe uma regra que proíbe que o mesmo aluno tenha que fazer mais de uma prova por dia. A tabela abaixo mostra quais alunos (identificados por números) vão fazer a prova de cada disciplina. Por exemplo, A e B não podem ser agendadas no mesmo dia por causa do aluno 1. Já B e C poderiam ser agendadas no mesmo dia, pois nenhum aluno vai fazer essas duas provas.\n",
    "\n",
    "| Disciplina | Alunos |\n",
    "|:---:|:---:|\n",
    "| A | 1, 2, 3, 4 |\n",
    "| B | 1, 5 |\n",
    "| C | 3, 6, 7 |\n",
    "| D | 5, 7 |\n",
    "| E | 2, 7 |\n",
    "| F | 4, 5 |\n",
    "\n",
    "Crie um modelo de PLI para agendar essas provas no menor número de dias possível.\n",
    "**Dica: baseie-se no modelo do problema de empacotamento de caixas.**\n"
   ]
  },
  {
   "attachments": {},
   "cell_type": "markdown",
   "metadata": {},
   "source": [
    "### Resolução"
   ]
  },
  {
   "cell_type": "code",
   "execution_count": 1,
   "metadata": {},
   "outputs": [],
   "source": [
    "# instalação e importação do pacote mip\n",
    "from mip import *"
   ]
  },
  {
   "attachments": {},
   "cell_type": "markdown",
   "metadata": {},
   "source": [
    "#### Dados\n",
    "$A = \\{1, 2, 3, 4, 5, 6, 7\\}$: conjunto de alunos \\\\\n",
    "$D = \\{1, 2, 3, 4, 5, 6\\}$: conjunto de dias em que é possível alocar provas \\\\\n",
    "$M = \\{A, B, C, D, E, F\\}$: conjunto de disciplinas \\\\\n",
    "$M_a$: conjunto de disciplinas que o aluno $a$ irá fazer prova \\\\"
   ]
  },
  {
   "cell_type": "code",
   "execution_count": 2,
   "metadata": {},
   "outputs": [],
   "source": [
    "A = range(1, 8)\n",
    "D = range(1, 7)\n",
    "M = ['A', 'B', 'C', 'D', 'E', 'F']\n",
    "Ma = {1: ['A', 'B'], 2: ['A', 'E'], 3: ['A', 'C'], 4: ['A', 'F'], 5: ['B', 'D', 'F'], 6: ['C'], 7: ['C', 'D', 'E']}"
   ]
  },
  {
   "attachments": {},
   "cell_type": "markdown",
   "metadata": {},
   "source": [
    "#### Variável\n",
    "$x_{dm}$ = 1 se a prova da disciplina $m$ acontecerá no dia $d$, 0 c.c.  \\\\\n",
    "$y_d$ = 1 se haverá alguma prova no dia $d$, 0 c.c.\n",
    "\n",
    "#### Modelo\n",
    "\n",
    "$$\\min \\sum_{d \\in D} y_d$$\n",
    "s.t.\n",
    "$$\\sum_{d \\in D} x_{dm} = 1; \\forall m \\in M$$\n",
    "$$\\sum_{m \\in M_a} x_{dm} \\leq y_d ; \\forall d \\in D; \\forall a \\in A$$\n",
    "$$x \\text{ e } y \\text{ binários}$$\n"
   ]
  },
  {
   "cell_type": "code",
   "execution_count": 3,
   "metadata": {},
   "outputs": [
    {
     "name": "stdout",
     "output_type": "stream",
     "text": [
      "\\Problem name: \n",
      "\n",
      "Minimize\n",
      "OBJROW: y_1 + y_2 + y_3 + y_4 + y_5 + y_6\n",
      "Subject To\n",
      "constr(0):  x_1_A + x_2_A + x_3_A + x_4_A + x_5_A + x_6_A = 1\n",
      "constr(1):  x_1_B + x_2_B + x_3_B + x_4_B + x_5_B + x_6_B = 1\n",
      "constr(2):  x_1_C + x_2_C + x_3_C + x_4_C + x_5_C + x_6_C = 1\n",
      "constr(3):  x_1_D + x_2_D + x_3_D + x_4_D + x_5_D + x_6_D = 1\n",
      "constr(4):  x_1_E + x_2_E + x_3_E + x_4_E + x_5_E + x_6_E = 1\n",
      "constr(5):  x_1_F + x_2_F + x_3_F + x_4_F + x_5_F + x_6_F = 1\n",
      "constr(6):  x_1_A + x_1_B - y_1 <= -0\n",
      "constr(7):  x_1_A + x_1_E - y_1 <= -0\n",
      "constr(8):  x_1_A + x_1_C - y_1 <= -0\n",
      "constr(9):  x_1_A + x_1_F - y_1 <= -0\n",
      "constr(10):  x_1_B + x_1_D + x_1_F - y_1 <= -0\n",
      "constr(11):  x_1_C - y_1 <= -0\n",
      "constr(12):  x_1_C + x_1_D + x_1_E - y_1 <= -0\n",
      "constr(13):  x_2_A + x_2_B - y_2 <= -0\n",
      "constr(14):  x_2_A + x_2_E - y_2 <= -0\n",
      "constr(15):  x_2_A + x_2_C - y_2 <= -0\n",
      "constr(16):  x_2_A + x_2_F - y_2 <= -0\n",
      "constr(17):  x_2_B + x_2_D + x_2_F - y_2 <= -0\n",
      "constr(18):  x_2_C - y_2 <= -0\n",
      "constr(19):  x_2_C + x_2_D + x_2_E - y_2 <= -0\n",
      "constr(20):  x_3_A + x_3_B - y_3 <= -0\n",
      "constr(21):  x_3_A + x_3_E - y_3 <= -0\n",
      "constr(22):  x_3_A + x_3_C - y_3 <= -0\n",
      "constr(23):  x_3_A + x_3_F - y_3 <= -0\n",
      "constr(24):  x_3_B + x_3_D + x_3_F - y_3 <= -0\n",
      "constr(25):  x_3_C - y_3 <= -0\n",
      "constr(26):  x_3_C + x_3_D + x_3_E - y_3 <= -0\n",
      "constr(27):  x_4_A + x_4_B - y_4 <= -0\n",
      "constr(28):  x_4_A + x_4_E - y_4 <= -0\n",
      "constr(29):  x_4_A + x_4_C - y_4 <= -0\n",
      "constr(30):  x_4_A + x_4_F - y_4 <= -0\n",
      "constr(31):  x_4_B + x_4_D + x_4_F - y_4 <= -0\n",
      "constr(32):  x_4_C - y_4 <= -0\n",
      "constr(33):  x_4_C + x_4_D + x_4_E - y_4 <= -0\n",
      "constr(34):  x_5_A + x_5_B - y_5 <= -0\n",
      "constr(35):  x_5_A + x_5_E - y_5 <= -0\n",
      "constr(36):  x_5_A + x_5_C - y_5 <= -0\n",
      "constr(37):  x_5_A + x_5_F - y_5 <= -0\n",
      "constr(38):  x_5_B + x_5_D + x_5_F - y_5 <= -0\n",
      "constr(39):  x_5_C - y_5 <= -0\n",
      "constr(40):  x_5_C + x_5_D + x_5_E - y_5 <= -0\n",
      "constr(41):  x_6_A + x_6_B - y_6 <= -0\n",
      "constr(42):  x_6_A + x_6_E - y_6 <= -0\n",
      "constr(43):  x_6_A + x_6_C - y_6 <= -0\n",
      "constr(44):  x_6_A + x_6_F - y_6 <= -0\n",
      "constr(45):  x_6_B + x_6_D + x_6_F - y_6 <= -0\n",
      "constr(46):  x_6_C - y_6 <= -0\n",
      "constr(47):  x_6_C + x_6_D + x_6_E - y_6 <= -0\n",
      "Bounds\n",
      " 0 <= x_1_A <= 1\n",
      " 0 <= x_1_B <= 1\n",
      " 0 <= x_1_C <= 1\n",
      " 0 <= x_1_D <= 1\n",
      " 0 <= x_1_E <= 1\n",
      " 0 <= x_1_F <= 1\n",
      " 0 <= x_2_A <= 1\n",
      " 0 <= x_2_B <= 1\n",
      " 0 <= x_2_C <= 1\n",
      " 0 <= x_2_D <= 1\n",
      " 0 <= x_2_E <= 1\n",
      " 0 <= x_2_F <= 1\n",
      " 0 <= x_3_A <= 1\n",
      " 0 <= x_3_B <= 1\n",
      " 0 <= x_3_C <= 1\n",
      " 0 <= x_3_D <= 1\n",
      " 0 <= x_3_E <= 1\n",
      " 0 <= x_3_F <= 1\n",
      " 0 <= x_4_A <= 1\n",
      " 0 <= x_4_B <= 1\n",
      " 0 <= x_4_C <= 1\n",
      " 0 <= x_4_D <= 1\n",
      " 0 <= x_4_E <= 1\n",
      " 0 <= x_4_F <= 1\n",
      " 0 <= x_5_A <= 1\n",
      " 0 <= x_5_B <= 1\n",
      " 0 <= x_5_C <= 1\n",
      " 0 <= x_5_D <= 1\n",
      " 0 <= x_5_E <= 1\n",
      " 0 <= x_5_F <= 1\n",
      " 0 <= x_6_A <= 1\n",
      " 0 <= x_6_B <= 1\n",
      " 0 <= x_6_C <= 1\n",
      " 0 <= x_6_D <= 1\n",
      " 0 <= x_6_E <= 1\n",
      " 0 <= x_6_F <= 1\n",
      " 0 <= y_1 <= 1\n",
      " 0 <= y_2 <= 1\n",
      " 0 <= y_3 <= 1\n",
      " 0 <= y_4 <= 1\n",
      " 0 <= y_5 <= 1\n",
      " 0 <= y_6 <= 1\n",
      "Integers\n",
      "x_1_A x_1_B x_1_C x_1_D x_1_E x_1_F x_2_A x_2_B x_2_C x_2_D \n",
      "x_2_E x_2_F x_3_A x_3_B x_3_C x_3_D x_3_E x_3_F x_4_A x_4_B \n",
      "x_4_C x_4_D x_4_E x_4_F x_5_A x_5_B x_5_C x_5_D x_5_E x_5_F \n",
      "x_6_A x_6_B x_6_C x_6_D x_6_E x_6_F y_1 y_2 y_3 y_4 \n",
      "y_5 y_6 \n",
      "End\n",
      "\n"
     ]
    }
   ],
   "source": [
    "model = Model(sense=MINIMIZE, solver_name=CBC)\n",
    "\n",
    "x = {d: {m: model.add_var(var_type=BINARY, name=f\"x_{d}_{m}\") for m in M} for d in D}\n",
    "y = {d: model.add_var(var_type=BINARY, name=f\"y_{d}\") for d in D}\n",
    "\n",
    "model.objective = xsum(y[d] for d in D)\n",
    "\n",
    "for m in M:\n",
    "    model += xsum(x[d][m] for d in D) == 1\n",
    "\n",
    "for d in D:\n",
    "  for a in A:\n",
    "    model += xsum(x[d][m] for m in Ma[a]) <= y[d]\n",
    "\n",
    "# salva modelo em arquivo lp, e mostra o conteúdo\n",
    "model.write(\"model.lp\") # salva modelo em arquivo\n",
    "with open(\"model.lp\", \"r\") as f: # lê e exibe conteúdo do arquivo\n",
    "  print(f.read())"
   ]
  },
  {
   "cell_type": "code",
   "execution_count": 4,
   "metadata": {},
   "outputs": [
    {
     "name": "stdout",
     "output_type": "stream",
     "text": [
      "Welcome to the CBC MILP Solver \n",
      "Version: Trunk\n",
      "Build Date: Oct 24 2021 \n",
      "\n",
      "Starting solution of the Linear programming relaxation problem using Primal Simplex\n",
      "\n",
      "Coin0506I Presolve 48 (0) rows, 42 (0) columns and 168 (0) elements\n",
      "Clp1000I sum of infeasibilities 5.72992e-12 - average 1.19373e-13, 0 fixed columns\n",
      "Coin0506I Presolve 48 (0) rows, 42 (0) columns and 168 (0) elements\n",
      "Clp0029I End of values pass after 42 iterations\n",
      "Clp0000I Optimal - objective value 3\n",
      "Clp0000I Optimal - objective value 3\n",
      "Clp0000I Optimal - objective value 3\n",
      "Clp0032I Optimal objective 3 - 0 iterations time 0.002, Idiot 0.00\n",
      "\n",
      "Starting MIP optimization\n",
      "Cgl0003I 0 fixed, 0 tightened bounds, 18 strengthened rows, 0 substitutions\n",
      "Cgl0003I 0 fixed, 0 tightened bounds, 14 strengthened rows, 0 substitutions\n",
      "Cgl0003I 0 fixed, 0 tightened bounds, 2 strengthened rows, 0 substitutions\n",
      "Cgl0004I processed model has 30 rows, 42 columns (42 integer (42 of which binary)) and 132 elements\n",
      "Coin3009W Conflict graph built in 0.000 seconds, density: 6.387%\n",
      "Cgl0015I Clique Strengthening extended 0 cliques, 0 were dominated\n",
      "Cbc0045I Nauty: 8 orbits (3 useful covering 42 variables), 9 generators, group size: 11520 - sparse size 518 - took 0 seconds\n",
      "Cbc0038I Initial state - 0 integers unsatisfied sum - 0\n",
      "Cbc0038I Solution found of 3\n",
      "Cbc0038I Before mini branch and bound, 42 integers at bound fixed and 0 continuous\n",
      "Cbc0038I Mini branch and bound did not improve solution (0.00 seconds)\n",
      "Cbc0038I After 0.00 seconds - Feasibility pump exiting with objective of 3 - took 0.00 seconds\n",
      "Cbc0012I Integer solution of 3 found by feasibility pump after 0 iterations and 0 nodes (0.00 seconds)\n",
      "Cbc0001I Search completed - best objective 3, took 0 iterations and 0 nodes (0.00 seconds)\n",
      "Cbc0035I Maximum depth 0, 0 variables fixed on reduced cost\n",
      "Total time (CPU seconds):       0.00   (Wallclock seconds):       0.00\n",
      "\n",
      "Status = OptimizationStatus.OPTIMAL\n",
      "\n",
      "São necessários no mínimo 3 dias para realizar as provas.\n",
      "\n",
      "Dia 1:  E, F\n",
      "Dia 2:  A, D\n",
      "Dia 3:  B, C\n"
     ]
    }
   ],
   "source": [
    "status = model.optimize()\n",
    "\n",
    "print(f\"Status = {status}\\n\")\n",
    "if status == OptimizationStatus.OPTIMAL:\n",
    "  print(f\"São necessários no mínimo {int(model.objective_value)} dias para realizar as provas.\\n\")\n",
    "\n",
    "  day = 1\n",
    "  for d in D:\n",
    "    if int(y[d].x) == 1:\n",
    "      print(f\"Dia {day}: \", \", \".join([m for m in M if int(x[d][m].x) == 1]))\n",
    "      day += 1"
   ]
  },
  {
   "attachments": {},
   "cell_type": "markdown",
   "metadata": {},
   "source": []
  }
 ],
 "metadata": {
  "kernelspec": {
   "display_name": "Python 3",
   "language": "python",
   "name": "python3"
  },
  "language_info": {
   "codemirror_mode": {
    "name": "ipython",
    "version": 3
   },
   "file_extension": ".py",
   "mimetype": "text/x-python",
   "name": "python",
   "nbconvert_exporter": "python",
   "pygments_lexer": "ipython3",
   "version": "3.10.6"
  },
  "orig_nbformat": 4
 },
 "nbformat": 4,
 "nbformat_minor": 2
}
